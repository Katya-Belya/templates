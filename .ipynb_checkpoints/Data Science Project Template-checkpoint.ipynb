{
 "cells": [
  {
   "cell_type": "markdown",
   "id": "57fdd5b4",
   "metadata": {},
   "source": [
    "#### Project: Data Science Template <br> Programmer: Dhruv Singh <br> Date Updated: 10/18/2022"
   ]
  },
  {
   "cell_type": "markdown",
   "id": "f614e300",
   "metadata": {},
   "source": [
    "# Data Science Project Template"
   ]
  },
  {
   "cell_type": "markdown",
   "id": "cb637d70",
   "metadata": {},
   "source": [
    "### Step 1: Combine & Clean Data (10%)"
   ]
  },
  {
   "cell_type": "code",
   "execution_count": null,
   "id": "67f34c6a",
   "metadata": {},
   "outputs": [],
   "source": [
    "# libraries\n",
    "import pandas as pd\n",
    "import numpy as np"
   ]
  },
  {
   "cell_type": "code",
   "execution_count": null,
   "id": "8fe97ef9",
   "metadata": {},
   "outputs": [],
   "source": [
    "# read in csv data\n",
    "df = pd.read_csv('filname.csv')"
   ]
  },
  {
   "cell_type": "markdown",
   "id": "121b0398",
   "metadata": {},
   "source": [
    "Basics 1: Tabulation\n",
    "\n",
    "* Rows / Columns: df.shape\n",
    "* Data types: df.dtypes\n",
    "* Missing Data: df.isnull.sum()"
   ]
  },
  {
   "cell_type": "code",
   "execution_count": null,
   "id": "ab94ef75",
   "metadata": {},
   "outputs": [],
   "source": []
  },
  {
   "cell_type": "markdown",
   "id": "72030230",
   "metadata": {},
   "source": [
    "Basics 2: Merge / Concat\n",
    "* Concatenate vertically: df_concat = pd.concat[df1, df2, df3] \n",
    "* Merge horizontally: set both indices, df_merge = pd.merge(df1, df2, how = 'inner / left / outer', left_index=True, right_index=True \n",
    "\n",
    "Notes:\n",
    "* Can only merge 2 dfs at a time\n",
    "* Make sure all columns are aligned before concatenating, can drop or insert 'empty' columns to do so"
   ]
  },
  {
   "cell_type": "code",
   "execution_count": null,
   "id": "be22b1fa",
   "metadata": {},
   "outputs": [],
   "source": []
  },
  {
   "cell_type": "markdown",
   "id": "3da79d76",
   "metadata": {},
   "source": [
    "Basics 3: Making changes\n",
    "* Strip out special characters from strings: df[\"column\"] = df[\"column\"].str.replace(',', '')\n",
    "* Convert data to appropriate types (datetime, int, float): df[\"column\"] = df[\"column\"].astype('float/int')\n",
    "* Recode Categories: df.loc[condition, 'column'] = value\n",
    "* Impute missing values: df.fillna(value / 0 / df.median(), inplace=True) # uses column medians\n",
    "* Drop irrelevant columns: df.drop(columns=['A', 'B'], inplace=True)\n",
    "* Rename Columns: df = df.rename(columns = {\"A_old\": \"A_new\", \"B_old\": \"B_new\"})"
   ]
  },
  {
   "cell_type": "code",
   "execution_count": null,
   "id": "4806357a",
   "metadata": {},
   "outputs": [],
   "source": []
  },
  {
   "cell_type": "markdown",
   "id": "0dd4cff4",
   "metadata": {},
   "source": [
    "### Step 2: EDA, basic (10%)"
   ]
  },
  {
   "cell_type": "markdown",
   "id": "074bf7e0",
   "metadata": {},
   "source": [
    "* Summarize all numeric variables: df.describe().round(2)\n",
    "* Groupbys: df_agg = df[['col1', 'col2', 'col3']].groupby(['col1', 'col2']).agg(['count', 'sum'])\n",
    "* Nested headers: df.columns = df.columns.get_level_values(1)\n",
    "* Reshape, long to wide: (see below)\n",
    "* Reshape, wide to long: df_long = pd.melt(df, id_vars=df.columns[0:m], value_vars=df.columns[m:n])\n",
    "\n",
    "Notes: \n",
    "* Rename columns after groupby\n",
    "* In melt, id vars stay fixed, value columns get stacked next to their column headers"
   ]
  },
  {
   "cell_type": "markdown",
   "id": "e5f26c82",
   "metadata": {},
   "source": [
    "![alt text](reshape.png)\n",
    "\n",
    "Source: https://towardsdatascience.com/reshape-pandas-dataframe-with-pivot-table-in-python-tutorial-and-visualization-2248c2012a31"
   ]
  },
  {
   "cell_type": "code",
   "execution_count": null,
   "id": "edb127aa",
   "metadata": {},
   "outputs": [],
   "source": []
  },
  {
   "cell_type": "markdown",
   "id": "df758b01",
   "metadata": {},
   "source": [
    "### Step 3: Visualize Data || Reshape It (15%)"
   ]
  },
  {
   "cell_type": "code",
   "execution_count": null,
   "id": "1b78a4dd",
   "metadata": {},
   "outputs": [],
   "source": [
    "# libraries\n",
    "import matplotlib.pyplot as plt\n",
    "import seaborn as sns"
   ]
  },
  {
   "cell_type": "markdown",
   "id": "9824fa5e",
   "metadata": {},
   "source": [
    "* Bar graphs / Histograms as is:\n",
    "* Line graphs as is:\n",
    "* Bin numeric variables:\n",
    "* Binned variables: Bar graph / histogram:\n",
    "* Scatterplots:"
   ]
  },
  {
   "cell_type": "code",
   "execution_count": null,
   "id": "19de3670",
   "metadata": {},
   "outputs": [],
   "source": []
  },
  {
   "cell_type": "code",
   "execution_count": null,
   "id": "2748a711",
   "metadata": {},
   "outputs": [],
   "source": []
  },
  {
   "cell_type": "markdown",
   "id": "93749c82",
   "metadata": {},
   "source": [
    "### Step 4: Advanced EDA (15%)"
   ]
  },
  {
   "cell_type": "code",
   "execution_count": null,
   "id": "709c20fc",
   "metadata": {},
   "outputs": [],
   "source": [
    "# libraries\n",
    "import scikitlearn"
   ]
  },
  {
   "cell_type": "markdown",
   "id": "383833fc",
   "metadata": {},
   "source": [
    "* Correlation matrix:\n",
    "* Heatmap:\n",
    "* Feature importance regressor / classifier:\n",
    "* Dimensionality Reduction: \n",
    "* Visualize most important features:\n"
   ]
  },
  {
   "cell_type": "code",
   "execution_count": null,
   "id": "81060ee5",
   "metadata": {},
   "outputs": [],
   "source": []
  },
  {
   "cell_type": "code",
   "execution_count": null,
   "id": "337bcb90",
   "metadata": {},
   "outputs": [],
   "source": []
  },
  {
   "cell_type": "code",
   "execution_count": null,
   "id": "8525e70c",
   "metadata": {},
   "outputs": [],
   "source": []
  },
  {
   "cell_type": "markdown",
   "id": "96efdda6",
   "metadata": {},
   "source": [
    "### Step 5: Model Data (50%)"
   ]
  },
  {
   "cell_type": "code",
   "execution_count": null,
   "id": "c8697196",
   "metadata": {},
   "outputs": [],
   "source": [
    "import scikitlearn"
   ]
  },
  {
   "cell_type": "markdown",
   "id": "dc25ae32",
   "metadata": {},
   "source": [
    "* train test split\n",
    "* fit model\n",
    "* use model on X_test to predict y_test\n",
    "* score y_pred against y_test to measure model performance / evaluate"
   ]
  },
  {
   "cell_type": "code",
   "execution_count": null,
   "id": "dadf4916",
   "metadata": {},
   "outputs": [],
   "source": []
  },
  {
   "cell_type": "code",
   "execution_count": null,
   "id": "d0a92647",
   "metadata": {},
   "outputs": [],
   "source": []
  },
  {
   "cell_type": "code",
   "execution_count": null,
   "id": "455e8349",
   "metadata": {},
   "outputs": [],
   "source": []
  },
  {
   "cell_type": "code",
   "execution_count": null,
   "id": "a5e20c2b",
   "metadata": {},
   "outputs": [],
   "source": []
  },
  {
   "cell_type": "code",
   "execution_count": null,
   "id": "ff460a20",
   "metadata": {},
   "outputs": [],
   "source": []
  },
  {
   "cell_type": "code",
   "execution_count": null,
   "id": "867f2049",
   "metadata": {},
   "outputs": [],
   "source": []
  },
  {
   "cell_type": "code",
   "execution_count": null,
   "id": "13dfd1f5",
   "metadata": {},
   "outputs": [],
   "source": []
  },
  {
   "cell_type": "code",
   "execution_count": null,
   "id": "987cb994",
   "metadata": {},
   "outputs": [],
   "source": []
  },
  {
   "cell_type": "code",
   "execution_count": null,
   "id": "d00d06c6",
   "metadata": {},
   "outputs": [],
   "source": []
  },
  {
   "cell_type": "code",
   "execution_count": null,
   "id": "d368bdf6",
   "metadata": {},
   "outputs": [],
   "source": []
  },
  {
   "cell_type": "code",
   "execution_count": null,
   "id": "60a7e95e",
   "metadata": {},
   "outputs": [],
   "source": []
  },
  {
   "cell_type": "code",
   "execution_count": null,
   "id": "912414e6",
   "metadata": {},
   "outputs": [],
   "source": []
  },
  {
   "cell_type": "code",
   "execution_count": null,
   "id": "3e13fc09",
   "metadata": {},
   "outputs": [],
   "source": []
  },
  {
   "cell_type": "code",
   "execution_count": null,
   "id": "98efbe00",
   "metadata": {},
   "outputs": [],
   "source": []
  }
 ],
 "metadata": {
  "kernelspec": {
   "display_name": "Python 3 (ipykernel)",
   "language": "python",
   "name": "python3"
  },
  "language_info": {
   "codemirror_mode": {
    "name": "ipython",
    "version": 3
   },
   "file_extension": ".py",
   "mimetype": "text/x-python",
   "name": "python",
   "nbconvert_exporter": "python",
   "pygments_lexer": "ipython3",
   "version": "3.9.0"
  }
 },
 "nbformat": 4,
 "nbformat_minor": 5
}
